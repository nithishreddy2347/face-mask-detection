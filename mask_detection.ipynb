{
 "cells": [
  {
   "attachments": {},
   "cell_type": "markdown",
   "metadata": {},
   "source": [
    "# Mask detection"
   ]
  },
  {
   "attachments": {},
   "cell_type": "markdown",
   "metadata": {},
   "source": [
    "## Importing libraries"
   ]
  },
  {
   "cell_type": "code",
   "execution_count": 1,
   "metadata": {},
   "outputs": [
    {
     "name": "stdout",
     "output_type": "stream",
     "text": [
      "2.12.0\n"
     ]
    }
   ],
   "source": [
    "import tensorflow as tf\n",
    "from tensorflow.keras.models import Sequential\n",
    "from tensorflow.keras.layers import Dense, Activation, Dropout, Flatten, Conv2D, MaxPooling2D\n",
    "import pickle\n",
    "print(tf.__version__)"
   ]
  },
  {
   "attachments": {},
   "cell_type": "markdown",
   "metadata": {},
   "source": [
    "## Getting the data from pickle file"
   ]
  },
  {
   "cell_type": "code",
   "execution_count": 2,
   "metadata": {},
   "outputs": [],
   "source": [
    "x = pickle.load(open('x.pickle','rb'))\n",
    "y = pickle.load(open('y.pickle','rb'))"
   ]
  },
  {
   "attachments": {},
   "cell_type": "markdown",
   "metadata": {},
   "source": [
    "### Normalizing the data "
   ]
  },
  {
   "cell_type": "code",
   "execution_count": 3,
   "metadata": {},
   "outputs": [
    {
     "name": "stdout",
     "output_type": "stream",
     "text": [
      "[[[0.52941176]\n",
      "  [0.5254902 ]\n",
      "  [0.5254902 ]\n",
      "  ...\n",
      "  [0.5254902 ]\n",
      "  [0.6627451 ]\n",
      "  [0.69019608]]\n",
      "\n",
      " [[0.50196078]\n",
      "  [0.49803922]\n",
      "  [0.49803922]\n",
      "  ...\n",
      "  [0.49019608]\n",
      "  [0.63921569]\n",
      "  [0.69803922]]\n",
      "\n",
      " [[0.4745098 ]\n",
      "  [0.47058824]\n",
      "  [0.47058824]\n",
      "  ...\n",
      "  [0.44705882]\n",
      "  [0.6       ]\n",
      "  [0.69411765]]\n",
      "\n",
      " ...\n",
      "\n",
      " [[0.70588235]\n",
      "  [0.68235294]\n",
      "  [0.65490196]\n",
      "  ...\n",
      "  [0.34117647]\n",
      "  [0.35686275]\n",
      "  [0.39215686]]\n",
      "\n",
      " [[0.69411765]\n",
      "  [0.67058824]\n",
      "  [0.63921569]\n",
      "  ...\n",
      "  [0.31764706]\n",
      "  [0.3254902 ]\n",
      "  [0.34117647]]\n",
      "\n",
      " [[0.68627451]\n",
      "  [0.6627451 ]\n",
      "  [0.63137255]\n",
      "  ...\n",
      "  [0.28627451]\n",
      "  [0.30196078]\n",
      "  [0.29411765]]]\n"
     ]
    }
   ],
   "source": [
    "x = x/255.0\n",
    "print(x[0])"
   ]
  },
  {
   "attachments": {},
   "cell_type": "markdown",
   "metadata": {},
   "source": [
    "## Making the model"
   ]
  },
  {
   "cell_type": "code",
   "execution_count": 4,
   "metadata": {},
   "outputs": [],
   "source": [
    "model = Sequential([\n",
    "    Conv2D(64, (3,3),input_shape = x.shape[1:]),\n",
    "    Activation('relu'),\n",
    "    MaxPooling2D(pool_size=(2,2)),\n",
    "\n",
    "    Conv2D(64, (3,3)),\n",
    "    Activation('relu'),\n",
    "    MaxPooling2D(pool_size=(2,2)),\n",
    "\n",
    "    Flatten(),\n",
    "    Dense(64),\n",
    "\n",
    "    Dense(1),\n",
    "    Activation('sigmoid'),\n",
    "])\n",
    "\n",
    "model.compile(optimizer='adam', loss='binary_crossentropy',metrics=['accuracy'])"
   ]
  },
  {
   "cell_type": "code",
   "execution_count": 5,
   "metadata": {},
   "outputs": [
    {
     "name": "stdout",
     "output_type": "stream",
     "text": [
      "Epoch 1/10\n",
      "282/282 [==============================] - 23s 77ms/step - loss: 0.2337 - accuracy: 0.8977 - val_loss: 0.1647 - val_accuracy: 0.9410\n",
      "Epoch 2/10\n",
      "282/282 [==============================] - 23s 82ms/step - loss: 0.0901 - accuracy: 0.9691 - val_loss: 0.0940 - val_accuracy: 0.9650\n",
      "Epoch 3/10\n",
      "282/282 [==============================] - 22s 78ms/step - loss: 0.0686 - accuracy: 0.9757 - val_loss: 0.0691 - val_accuracy: 0.9750\n",
      "Epoch 4/10\n",
      "282/282 [==============================] - 21s 75ms/step - loss: 0.0597 - accuracy: 0.9794 - val_loss: 0.1109 - val_accuracy: 0.9550\n",
      "Epoch 5/10\n",
      "282/282 [==============================] - 21s 74ms/step - loss: 0.0498 - accuracy: 0.9824 - val_loss: 0.0748 - val_accuracy: 0.9700\n",
      "Epoch 6/10\n",
      "282/282 [==============================] - 21s 73ms/step - loss: 0.0396 - accuracy: 0.9860 - val_loss: 0.0432 - val_accuracy: 0.9830\n",
      "Epoch 7/10\n",
      "282/282 [==============================] - 21s 73ms/step - loss: 0.0405 - accuracy: 0.9857 - val_loss: 0.0448 - val_accuracy: 0.9780\n",
      "Epoch 8/10\n",
      "282/282 [==============================] - 21s 74ms/step - loss: 0.0319 - accuracy: 0.9897 - val_loss: 0.0525 - val_accuracy: 0.9750\n",
      "Epoch 9/10\n",
      "282/282 [==============================] - 21s 74ms/step - loss: 0.0270 - accuracy: 0.9907 - val_loss: 0.0456 - val_accuracy: 0.9810\n",
      "Epoch 10/10\n",
      "282/282 [==============================] - 22s 78ms/step - loss: 0.0266 - accuracy: 0.9912 - val_loss: 0.0384 - val_accuracy: 0.9870\n"
     ]
    },
    {
     "data": {
      "text/plain": [
       "<keras.callbacks.History at 0x19b853aa050>"
      ]
     },
     "execution_count": 5,
     "metadata": {},
     "output_type": "execute_result"
    }
   ],
   "source": [
    "model.fit(x, y, epochs=10, validation_split=0.1)"
   ]
  },
  {
   "attachments": {},
   "cell_type": "markdown",
   "metadata": {},
   "source": [
    "## Saving a model"
   ]
  },
  {
   "cell_type": "code",
   "execution_count": 6,
   "metadata": {},
   "outputs": [
    {
     "name": "stderr",
     "output_type": "stream",
     "text": [
      "WARNING:absl:Found untraced functions such as _jit_compiled_convolution_op, _jit_compiled_convolution_op, _update_step_xla while saving (showing 3 of 3). These functions will not be directly callable after loading.\n"
     ]
    },
    {
     "name": "stdout",
     "output_type": "stream",
     "text": [
      "INFO:tensorflow:Assets written to: mask_detect\\assets\n"
     ]
    },
    {
     "name": "stderr",
     "output_type": "stream",
     "text": [
      "INFO:tensorflow:Assets written to: mask_detect\\assets\n"
     ]
    }
   ],
   "source": [
    "model.save('mask_detect')"
   ]
  },
  {
   "attachments": {},
   "cell_type": "markdown",
   "metadata": {},
   "source": [
    "## Loading a saved model"
   ]
  },
  {
   "cell_type": "code",
   "execution_count": 7,
   "metadata": {},
   "outputs": [
    {
     "name": "stdout",
     "output_type": "stream",
     "text": [
      "Model: \"sequential\"\n",
      "_________________________________________________________________\n",
      " Layer (type)                Output Shape              Param #   \n",
      "=================================================================\n",
      " conv2d (Conv2D)             (None, 48, 48, 64)        640       \n",
      "                                                                 \n",
      " activation (Activation)     (None, 48, 48, 64)        0         \n",
      "                                                                 \n",
      " max_pooling2d (MaxPooling2D  (None, 24, 24, 64)       0         \n",
      " )                                                               \n",
      "                                                                 \n",
      " conv2d_1 (Conv2D)           (None, 22, 22, 64)        36928     \n",
      "                                                                 \n",
      " activation_1 (Activation)   (None, 22, 22, 64)        0         \n",
      "                                                                 \n",
      " max_pooling2d_1 (MaxPooling  (None, 11, 11, 64)       0         \n",
      " 2D)                                                             \n",
      "                                                                 \n",
      " flatten (Flatten)           (None, 7744)              0         \n",
      "                                                                 \n",
      " dense (Dense)               (None, 64)                495680    \n",
      "                                                                 \n",
      " dense_1 (Dense)             (None, 1)                 65        \n",
      "                                                                 \n",
      " activation_2 (Activation)   (None, 1)                 0         \n",
      "                                                                 \n",
      "=================================================================\n",
      "Total params: 533,313\n",
      "Trainable params: 533,313\n",
      "Non-trainable params: 0\n",
      "_________________________________________________________________\n"
     ]
    }
   ],
   "source": [
    "new_model = tf.keras.models.load_model('mask_detect')\n",
    "new_model.summary()"
   ]
  },
  {
   "cell_type": "code",
   "execution_count": null,
   "metadata": {},
   "outputs": [],
   "source": []
  }
 ],
 "metadata": {
  "kernelspec": {
   "display_name": "Python 3",
   "language": "python",
   "name": "python3"
  },
  "language_info": {
   "codemirror_mode": {
    "name": "ipython",
    "version": 3
   },
   "file_extension": ".py",
   "mimetype": "text/x-python",
   "name": "python",
   "nbconvert_exporter": "python",
   "pygments_lexer": "ipython3",
   "version": "3.11.2"
  },
  "orig_nbformat": 4,
  "vscode": {
   "interpreter": {
    "hash": "5a10fb9ecf075ae91f9a32ed2436da81e9fad5b808d25af74014523a967f495e"
   }
  }
 },
 "nbformat": 4,
 "nbformat_minor": 2
}
